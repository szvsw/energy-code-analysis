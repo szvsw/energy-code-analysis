{
 "cells": [
  {
   "cell_type": "code",
   "execution_count": null,
   "metadata": {},
   "outputs": [],
   "source": [
    "import os\n",
    "from pathlib import Path\n",
    "from archetypal.idfclass import IDF\n",
    "from archetypal.idfclass.sql import Sql\n",
    "from archetypal import settings\n",
    "\n",
    "# Check if we are running on Windows or Linux using os\n",
    "if os.name == \"nt\":\n",
    "    settings.ep_version == \"9.5.0\"\n",
    "    settings.energyplus_location = Path(\"C:/EnergyPlusV9-5-0\")\n",
    "else:\n",
    "    settings.ep_version == \"9.5.0\"\n",
    "    settings.energyplus_location = Path(\"/usr/local/EnergyPlus-9-5-0\")\n",
    "\n",
    "idf = IDF(\"test.idf\", epw=\"test.epw\")\n",
    "idf.simulate()\n",
    "sql = Sql(idf.sql_file)\n",
    "df = sql.tabular_data_by_name(\"AnnualBuildingUtilityPerformanceSummary\", \"End Uses\",)\n",
    "df"
   ]
  }
 ],
 "metadata": {
  "kernelspec": {
   "display_name": "ml-for-bem-final",
   "language": "python",
   "name": "python3"
  },
  "language_info": {
   "name": "python",
   "version": "3.8.17"
  },
  "orig_nbformat": 4
 },
 "nbformat": 4,
 "nbformat_minor": 2
}
